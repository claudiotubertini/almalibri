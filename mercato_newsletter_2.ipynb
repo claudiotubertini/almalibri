{
 "cells": [
  {
   "cell_type": "code",
   "execution_count": 2,
   "metadata": {},
   "outputs": [],
   "source": [
    "import pandas as pd\n",
    "import pyarrow as pa\n",
    "import numpy as np\n",
    "import matplotlib.pyplot as plt\n",
    "import matplotlib as mpl\n",
    "import os, re\n",
    "from matplotlib.patches import ConnectionPatch\n",
    "%matplotlib widget"
   ]
  },
  {
   "cell_type": "markdown",
   "metadata": {},
   "source": [
    "Iniziamo caricando le adozioni di 24 unviersità con i dati degli iscritti del corrispondente anno accademico. [Li potete trovare qui](https://github.com/claudiotubertini/almalibri)"
   ]
  },
  {
   "cell_type": "code",
   "execution_count": null,
   "metadata": {},
   "outputs": [],
   "source": [
    "# 2020\n",
    "polimi_2020 = pd.read_csv('polimi_2020.csv', sep=\";\", encoding='utf-8')\n",
    "polito_2020 = pd.read_csv('polito_2020.csv', sep=\";\", encoding='utf-8')\n",
    "unibo_2020 = pd.read_csv('bologna_2020.csv', sep=\";\", encoding='utf-8')\n",
    "unibocconi_2020 = pd.read_csv('unibocconi_2020.csv', sep=\";\", encoding='utf-8')\n",
    "unica_2020 = pd.read_csv('unica_2020.csv', sep=\";\", encoding='utf-8')\n",
    "unicatt_2020 = pd.read_csv('unicatt_2020.csv', sep=\";\", encoding='utf-8')\n",
    "unich_2020 = pd.read_csv('unich_2020.csv', sep=\";\", encoding='utf-8')\n",
    "unife_2020 = pd.read_csv('unife_2020.csv', sep=\";\", encoding='utf-8')\n",
    "unifi_2020 = pd.read_csv('unifi_2020.csv', sep=\";\", encoding='utf-8')\n",
    "unige_2020 = pd.read_csv('unige_2020.csv', sep=\";\", encoding='utf-8')\n",
    "unimi_2020 = pd.read_csv('unimi_2020.csv', sep=\";\", encoding='utf-8')\n",
    "unimib_2020 = pd.read_csv('unimib_2020.csv', sep=\";\", encoding='utf-8')\n",
    "unipa_2020 = pd.read_csv('unipa_2020.csv', sep=\";\", encoding='utf-8')\n",
    "unipd_2020 = pd.read_csv('unipd_2020.csv', sep=\";\", encoding='utf-8')\n",
    "unipi_2020 = pd.read_csv('unipi_2020.csv', sep=\";\", encoding='utf-8')\n",
    "unipr_2020 = pd.read_csv('unipr_2020.csv', sep=\";\", encoding='utf-8')\n",
    "uniroma1_2020 = pd.read_csv('uniroma1_2020.csv', sep=\";\", encoding='utf-8')\n",
    "uniroma3_2020 = pd.read_csv('uniroma3_2020.csv', sep=\";\", encoding='utf-8')\n",
    "unisa_2020 = pd.read_csv('unisa_2020.csv', sep=\";\", encoding='utf-8')\n",
    "unisi_2020 = pd.read_csv('unisi_2020.csv', sep=\";\", encoding='utf-8')\n",
    "unito_2020 = pd.read_csv('unito_2020.csv', sep=\";\", encoding='utf-8')\n",
    "uniurb_2020 = pd.read_csv('uniurb_2020.csv', sep=\";\", encoding='utf-8')\n",
    "unive_2020 = pd.read_csv('unive_2020.csv', sep=\";\", encoding='utf-8')\n",
    "adozioni_2020 = pd.concat([polimi_2020, polito_2020, unibo_2020, unibocconi_2020, unica_2020, unicatt_2020, unich_2020, \n",
    "                           unife_2020, unifi_2020, unige_2020, unimi_2020, unimib_2020, unipa_2020, unipd_2020, unipi_2020,\n",
    "                           unipr_2020, uniroma1_2020, uniroma3_2020, unisa_2020, unisi_2020, unito_2020, uniurb_2020, unive_2020],\n",
    "                          ignore_index=True)"
   ]
  },
  {
   "cell_type": "code",
   "execution_count": 4,
   "metadata": {
    "editable": true,
    "slideshow": {
     "slide_type": ""
    },
    "tags": []
   },
   "outputs": [],
   "source": [
    "#2021\n",
    "polimi_2021 = pd.read_csv('adozioni_almalibri_polimi_2021.csv', sep=\";\", encoding='utf-8')\n",
    "polito_2021 = pd.read_csv('adozioni_almalibri_polito_2021.zip', sep=\";\", encoding='utf-8')\n",
    "unibo_2021 = pd.read_csv('adozioni_almalibri_unibo_2021.zip', sep=\";\", encoding='utf-8')\n",
    "unibocconi_2021 = pd.read_csv('adozioni_almalibri_unibocconi_2021.csv', sep=\";\", encoding='utf-8')\n",
    "unica_2021 = pd.read_csv('adozioni_almalibri_unica_2021.csv', sep=\";\", encoding='utf-8')\n",
    "unicatt_2021 = pd.read_csv('adozioni_almalibri_unicatt_2021.csv', sep=\";\", encoding='utf-8')\n",
    "unich_2021 = pd.read_csv('adozioni_almalibri_unich_2021.csv', sep=\";\", encoding='utf-8')\n",
    "unife_2021 = pd.read_csv('adozioni_almalibri_unife_2021.csv', sep=\";\", encoding='utf-8')\n",
    "unifi_2021 = pd.read_csv('adozioni_almalibri_unifi_2021.csv', sep=\";\", encoding='utf-8')\n",
    "unige_2021 = pd.read_csv('adozioni_almalibri_unige_2021.csv', sep=\";\", encoding='utf-8')\n",
    "unimi_2021 = pd.read_csv('adozioni_almalibri_unimi_2021.csv', sep=\";\", encoding='utf-8')\n",
    "unimib_2021 = pd.read_csv('adozioni_almalibri_unimib_2021.csv', sep=\";\", encoding='utf-8')\n",
    "unipa_2021 = pd.read_csv('adozioni_almalibri_unipa_2021.csv', sep=\";\", encoding='utf-8')\n",
    "unipd_2021 = pd.read_csv('adozioni_almalibri_unipd_2021.csv', sep=\";\", encoding='utf-8')\n",
    "unipi_2021 = pd.read_csv('adozioni_almalibri_unipi_2021.csv', sep=\";\", encoding='utf-8')\n",
    "unipr_2021 = pd.read_csv('adozioni_almalibri_unipr_2021.csv', sep=\";\", encoding='utf-8')\n",
    "uniroma1_2021 = pd.read_csv('adozioni_almalibri_uniroma1_2021.csv', sep=\";\", encoding='utf-8')\n",
    "uniroma3_2021 = pd.read_csv('adozioni_almalibri_uniroma3_2021.csv', sep=\";\", encoding='utf-8')\n",
    "unisa_2021 = pd.read_csv('adozioni_almalibri_unisa_2021.csv', sep=\";\", encoding='utf-8')\n",
    "unisi_2021 = pd.read_csv('adozioni_almalibri_unisi_2021.csv', sep=\";\", encoding='utf-8')\n",
    "unito_2021 = pd.read_csv('adozioni_almalibri_unito_2021.csv', sep=\";\", encoding='utf-8')\n",
    "uniurb_2021 = pd.read_csv('adozioni_almalibri_uniurb_2021.csv', sep=\";\", encoding='utf-8')\n",
    "unive_2021 = pd.read_csv('adozioni_almalibri_unive_2021.csv', sep=\";\", encoding='utf-8')\n",
    "adozioni_2021 = pd.concat([polimi_2021, polito_2021, unibo_2021, unibocconi_2021, unica_2021, unicatt_2021, unich_2021, \n",
    "                           unife_2021, unifi_2021, unige_2021, unimi_2021, unimib_2021, unipa_2021, unipd_2021, unipi_2021,\n",
    "                           unipr_2021, uniroma1_2021, uniroma3_2021, unisa_2021, unisi_2021, unito_2021, uniurb_2021, unive_2021],\n",
    "                          ignore_index=True)"
   ]
  },
  {
   "cell_type": "markdown",
   "metadata": {},
   "source": [
    "Li confrontiamo ora con le classi di laurea elencati dal Ministero della Ricerca Scientifica in modo da usare la loro classificazione disciplinare."
   ]
  },
  {
   "cell_type": "code",
   "execution_count": 5,
   "metadata": {},
   "outputs": [],
   "source": [
    "repl = lambda m: m.group(1) + '-' + m.group(2).zfill(2)\n",
    "adozioni_2021['laurea_classe_cod'] = adozioni_2021['laurea_classe_cod'].fillna(' ')\n",
    "adozioni_2021['laurea_classe_cod'] = adozioni_2021['laurea_classe_cod'].apply(lambda x: x.split(';')[0])\n",
    "adozioni_2021['laurea_classe_cod'] = adozioni_2021['laurea_classe_cod'].apply(lambda row: re.sub(r'([LM]+)-(\\d{1}$)', repl, row))\n",
    "cl = pd.read_csv('classi_di_laurea.csv', encoding='utf-8', dtype_backend=\"pyarrow\")\n",
    "cl['Nome Gruppo Disciplinare'] = cl['Nome Gruppo Disciplinare'].str.strip()\n",
    "cl['Macro Area Disciplinare'] = cl['Macro Area Disciplinare'].str.strip()\n",
    "cl = cl[['Numero Classe','Denominazione Classe','Nome Gruppo Disciplinare','Macro Area Disciplinare']]"
   ]
  },
  {
   "cell_type": "code",
   "execution_count": 27,
   "metadata": {},
   "outputs": [],
   "source": [
    "# 2020\n",
    "repl = lambda m: m.group(1) + '-' + m.group(2).zfill(2)\n",
    "adozioni_2020['laurea_classe_cod'] = adozioni_2020['laurea_classe_cod'].fillna(' ')\n",
    "adozioni_2020['laurea_classe_cod'] = adozioni_2020['laurea_classe_cod'].apply(lambda x: x.split(';')[0])\n",
    "adozioni_2020['laurea_classe_cod'] = adozioni_2020['laurea_classe_cod'].apply(lambda row: re.sub(r'([LM]+)-(\\d{1}$)', repl, row))\n",
    "triennali_2020 = adozioni_2020[(adozioni_2020['laurea_tipo']=='L') & (adozioni_2020['testo_obb']=='obb')] # bachelor's\n",
    "magistrali_2020 = adozioni_2020[(adozioni_2020['laurea_tipo']=='LM') & (adozioni_2020['testo_obb']=='obb')] # master's\n",
    "ciclo_unico_2020 = adozioni_2020[(adozioni_2020['laurea_tipo']=='LMCU') & (adozioni_2020['testo_obb']=='obb')] # single cycle\n",
    "triennali_2020 = triennali_2020.merge(cl, left_on='laurea_classe_cod', right_on='Numero Classe', how='left')\n",
    "magistrali_2020 = magistrali_2020.merge(cl, left_on='laurea_classe_cod', right_on='Numero Classe', how='left')\n",
    "ciclo_unico_2020 = ciclo_unico_2020.merge(cl, left_on='laurea_classe_cod', right_on='Numero Classe', how='left')\n",
    "triennali_2020.rename(columns={'Nome Gruppo Disciplinare': 'area'}, inplace=True)\n",
    "magistrali_2020.rename(columns={'Nome Gruppo Disciplinare': 'area'}, inplace=True)\n",
    "ciclo_unico_2020.rename(columns={'Nome Gruppo Disciplinare': 'area'}, inplace=True)\n",
    "triennali_2020.dropna(subset=['area'], inplace=True)\n",
    "magistrali_2020.dropna(subset=['area'], inplace=True)\n",
    "ciclo_unico_2020.dropna(subset=['area'], inplace=True)\n",
    "triennali_2020 = triennali_2020[['uni_cod','a_a','laurea_nome','materia_nome','isbn','autori','curatori','titolo','editore','prezzo','laurea_matricole','area']]\n",
    "magistrali_2020 = magistrali_2020[['uni_cod','a_a','laurea_nome','materia_nome','isbn','autori','curatori','titolo','editore','prezzo','laurea_matricole','area']]\n",
    "ciclo_unico_2020 = ciclo_unico_2020[['uni_cod','a_a','laurea_nome','materia_nome','isbn','autori','curatori','titolo','editore','prezzo','laurea_matricole','area']]\n",
    "triennali_2020['autore'] = triennali_2020['autori'] + ' ' + triennali_2020['curatori']\n",
    "magistrali_2020['autore'] = magistrali_2020['autori'] + ' ' + magistrali_2020['curatori']\n",
    "ciclo_unico_2020['autore'] = ciclo_unico_2020['autori'] + ' ' + ciclo_unico_2020['curatori']\n",
    "triennali_2020.drop(columns=['autori', 'curatori'], inplace=True)\n",
    "magistrali_2020.drop(columns=['autori', 'curatori'], inplace=True)\n",
    "ciclo_unico_2020.drop(columns=['autori', 'curatori'], inplace=True)\n",
    "triennali_2020['laurea_nome'] = triennali_2020['laurea_nome'].str.replace('^INFERMIERISTICA \\([\\w\\s]+\\)[\\s\\W\\w-]+', 'INFERMIERISTICA', case=True, regex=True)\n",
    "isbn_triennali_2020 = triennali_2020.drop_duplicates(subset=['uni_cod','a_a','laurea_nome','isbn']).sort_values(by=['laurea_matricole'], ascending=False)\n",
    "isbn_magistrali_2020 = magistrali_2020.drop_duplicates(subset=['uni_cod','a_a','laurea_nome','isbn']).sort_values(by=['laurea_matricole'], ascending=False)\n",
    "isbn_ciclo_unico_2020 = ciclo_unico_2020.drop_duplicates(subset=['uni_cod','a_a','laurea_nome','isbn']).sort_values(by=['laurea_matricole'], ascending=False)\n",
    "studenti_triennali_2020 = isbn_triennali_2020.groupby(['isbn']).aggregate({'uni_cod':'first','a_a':'first','autore':'first','titolo':'first','editore':'first','prezzo':'first','laurea_matricole': 'sum', 'laurea_nome': 'first', 'area':'first'}).reset_index()\n",
    "studenti_magistrali_2020 = isbn_magistrali_2020.groupby(['isbn']).aggregate({'uni_cod':'first','a_a':'first','autore':'first','titolo':'first','editore':'first','prezzo':'first','laurea_matricole': 'sum', 'laurea_nome': 'first', 'area':'first'}).reset_index()\n",
    "studenti_ciclo_unico_2020 = isbn_ciclo_unico_2020.groupby(['isbn']).aggregate({'uni_cod':'first','a_a':'first','autore':'first','titolo':'first','editore':'first','prezzo':'first','laurea_matricole': 'sum', 'laurea_nome': 'first', 'area':'first'}).reset_index()\n",
    "studenti_triennali_2020['fatturato'] = studenti_triennali_2020['prezzo']*studenti_triennali_2020['laurea_matricole']\n",
    "studenti_magistrali_2020['fatturato'] = studenti_magistrali_2020['prezzo']*studenti_magistrali_2020['laurea_matricole']\n",
    "studenti_ciclo_unico_2020['fatturato'] = studenti_ciclo_unico_2020['prezzo']*studenti_ciclo_unico_2020['laurea_matricole']\n",
    "# we round the turnover to integer\n",
    "studenti_triennali_2020['fatturato'] = studenti_triennali_2020['fatturato'].round(0).astype(int)\n",
    "studenti_magistrali_2020['fatturato'] = studenti_magistrali_2020['fatturato'].round(0).astype(int)\n",
    "studenti_ciclo_unico_2020['fatturato'] = studenti_ciclo_unico_2020['fatturato'].round(0).astype(int)\n",
    "# not every course has the number of students, so we drop the NaNs\n",
    "studenti_triennali_2020 = studenti_triennali_2020[studenti_triennali_2020['fatturato']>0]\n",
    "studenti_magistrali_2020 = studenti_magistrali_2020[studenti_magistrali_2020['fatturato']>0]\n",
    "studenti_ciclo_unico_2020 = studenti_ciclo_unico_2020[studenti_ciclo_unico_2020['fatturato']>0]\n",
    "isbn_triennali_2020 = studenti_triennali_2020.groupby(['area']).aggregate({'isbn': 'count','fatturato':'sum'}).reset_index()\n",
    "area_triennali_2020 = studenti_triennali_2020.drop_duplicates(subset=['uni_cod','a_a','laurea_nome','area'])\n",
    "# we group by area of study, and we count the number of students and the mean number of students in each degree course\n",
    "mean_triennali_2020 = area_triennali_2020[['uni_cod','a_a','laurea_nome','area','laurea_matricole']].groupby(['area']).aggregate({'laurea_matricole': ['mean','sum']}).reset_index()\n",
    "mean_triennali_2020.columns = mean_triennali_2020.columns.map('|'.join).str.strip('|')\n",
    "ret_triennali_2020 = mean_triennali_2020.merge(isbn_triennali_2020, left_on='area', right_on='area', how='inner')\n",
    "ret_triennali_2020['laurea_matricole|mean'] = ret_triennali_2020['laurea_matricole|mean'].round(0).astype(int)\n",
    "isbn_magistrali_2020 = studenti_magistrali_2020.groupby(['area']).aggregate({'isbn': 'count','fatturato':'sum'}).reset_index() #!isbn e fatturato\n",
    "area_magistrali_2020 = studenti_magistrali_2020.drop_duplicates(subset=['uni_cod','a_a','laurea_nome','area'])\n",
    "mean_magistrali_2020 = area_magistrali_2020.groupby(['area']).aggregate({'laurea_matricole': ['mean','sum']}).reset_index()\n",
    "mean_magistrali_2020.columns = mean_magistrali_2020.columns.map('|'.join).str.strip('|')\n",
    "ret_magistrali_2020 = mean_magistrali_2020.merge(isbn_magistrali_2020, left_on='area', right_on='area', how='inner')\n",
    "ret_magistrali_2020['laurea_matricole|mean'] = ret_magistrali_2020['laurea_matricole|mean'].round(0).astype(int)\n",
    "isbn_ciclo_unico_2020 = studenti_ciclo_unico_2020.groupby(['area']).aggregate({'isbn': 'count','fatturato':'sum'}).reset_index() #!isbn e fatturato\n",
    "area_ciclo_unico_2020 = studenti_ciclo_unico_2020.drop_duplicates(subset=['uni_cod','a_a','laurea_nome','area'])\n",
    "mean_ciclo_unico_2020 = area_ciclo_unico_2020.groupby(['area']).aggregate({'laurea_matricole': ['mean','sum']}).reset_index()\n",
    "mean_ciclo_unico_2020.columns = mean_ciclo_unico_2020.columns.map('|'.join).str.strip('|')\n",
    "ret_ciclo_unico_2020 = mean_ciclo_unico_2020.merge(isbn_ciclo_unico_2020, left_on='area', right_on='area', how='inner')\n",
    "ret_ciclo_unico_2020['laurea_matricole|mean'] = ret_ciclo_unico_2020['laurea_matricole|mean'].round(0).astype(int)\n",
    "ret_triennali_2020.set_index('area', inplace=True)\n",
    "ret_ciclo_unico_2020.set_index('area', inplace=True)\n",
    "ret_magistrali_2020.set_index('area', inplace=True)\n",
    "ft_2020 = ret_triennali_2020['fatturato'] *2.04\n",
    "ft2_2020 = ret_magistrali_2020['fatturato'] *2.04\n",
    "ft3_2020 = ret_ciclo_unico_2020['fatturato'] *2.04\n",
    "fatt_2020 = pd.concat([ft_2020, ft2_2020, ft3_2020], axis=1)\n",
    "# Not all area of study are present in all levels, so we fill the NaNs with 0 \n",
    "fatt_2020.fillna(0, inplace=True)\n",
    "fatt_2020.columns = ['triennali', 'magistrali', 'ciclo unico']\n",
    "fatt_2020 = fatt_2020.astype(int)"
   ]
  },
  {
   "cell_type": "code",
   "execution_count": 6,
   "metadata": {},
   "outputs": [],
   "source": [
    "# Distinguiamo le lauree triennali, magistrali e a ciclo unico ma prendiamo solo i testi obbligatori, tralasciando i testi consigliati\n",
    "triennali_2021 = adozioni_2021[(adozioni_2021['laurea_tipo']=='L') & (adozioni_2021['testo_obb']=='obb')] # bachelor's\n",
    "magistrali_2021 = adozioni_2021[(adozioni_2021['laurea_tipo']=='LM') & (adozioni_2021['testo_obb']=='obb')] # master's\n",
    "ciclo_unico_2021 = adozioni_2021[(adozioni_2021['laurea_tipo']=='LMCU') & (adozioni_2021['testo_obb']=='obb')] # single cycle"
   ]
  },
  {
   "cell_type": "code",
   "execution_count": 7,
   "metadata": {},
   "outputs": [],
   "source": [
    "triennali_2021 = triennali_2021.merge(cl, left_on='laurea_classe_cod', right_on='Numero Classe', how='left')\n",
    "magistrali_2021 = magistrali_2021.merge(cl, left_on='laurea_classe_cod', right_on='Numero Classe', how='left')\n",
    "ciclo_unico_2021 = ciclo_unico_2021.merge(cl, left_on='laurea_classe_cod', right_on='Numero Classe', how='left')\n",
    "triennali_2021.rename(columns={'Nome Gruppo Disciplinare': 'area'}, inplace=True)\n",
    "magistrali_2021.rename(columns={'Nome Gruppo Disciplinare': 'area'}, inplace=True)\n",
    "ciclo_unico_2021.rename(columns={'Nome Gruppo Disciplinare': 'area'}, inplace=True)\n",
    "triennali_2021.dropna(subset=['area'], inplace=True)\n",
    "magistrali_2021.dropna(subset=['area'], inplace=True)\n",
    "ciclo_unico_2021.dropna(subset=['area'], inplace=True)"
   ]
  },
  {
   "cell_type": "code",
   "execution_count": 8,
   "metadata": {},
   "outputs": [],
   "source": [
    "# un po' di pulizia nei dati\n",
    "triennali_2021 = triennali_2021[['uni_cod','a_a','laurea_nome','materia_nome','isbn','autori','curatori','titolo','editore','prezzo','laurea_matricole','area']]\n",
    "magistrali_2021 = magistrali_2021[['uni_cod','a_a','laurea_nome','materia_nome','isbn','autori','curatori','titolo','editore','prezzo','laurea_matricole','area']]\n",
    "ciclo_unico_2021 = ciclo_unico_2021[['uni_cod','a_a','laurea_nome','materia_nome','isbn','autori','curatori','titolo','editore','prezzo','laurea_matricole','area']]\n",
    "triennali_2021['autore'] = triennali_2021['autori'] + ' ' + triennali_2021['curatori']\n",
    "magistrali_2021['autore'] = magistrali_2021['autori'] + ' ' + magistrali_2021['curatori']\n",
    "ciclo_unico_2021['autore'] = ciclo_unico_2021['autori'] + ' ' + ciclo_unico_2021['curatori']\n",
    "triennali_2021.drop(columns=['autori', 'curatori'], inplace=True)\n",
    "magistrali_2021.drop(columns=['autori', 'curatori'], inplace=True)\n",
    "ciclo_unico_2021.drop(columns=['autori', 'curatori'], inplace=True)\n",
    "triennali_2021['laurea_nome'] = triennali_2021['laurea_nome'].str.replace('^INFERMIERISTICA \\([\\w\\s]+\\)[\\s\\W\\w-]+', 'INFERMIERISTICA', case=True, regex=True)"
   ]
  },
  {
   "cell_type": "code",
   "execution_count": 10,
   "metadata": {},
   "outputs": [],
   "source": [
    "# Contiamo gli ISBN\n",
    "isbn_triennali_2021 = triennali_2021.drop_duplicates(subset=['uni_cod','a_a','laurea_nome','isbn']).sort_values(by=['laurea_matricole'], ascending=False)\n",
    "isbn_magistrali_2021 = magistrali_2021.drop_duplicates(subset=['uni_cod','a_a','laurea_nome','isbn']).sort_values(by=['laurea_matricole'], ascending=False)\n",
    "isbn_ciclo_unico_2021 = ciclo_unico_2021.drop_duplicates(subset=['uni_cod','a_a','laurea_nome','isbn']).sort_values(by=['laurea_matricole'], ascending=False)\n",
    "\n",
    "# Contiamo il numero di studneti per ogni ISBN\n",
    "studenti_triennali_2021 = isbn_triennali_2021.groupby(['isbn']).aggregate({'uni_cod':'first','a_a':'first','autore':'first','titolo':'first','editore':'first','prezzo':'first','laurea_matricole': 'sum', 'laurea_nome': 'first', 'area':'first'}).reset_index()\n",
    "studenti_magistrali_2021 = isbn_magistrali_2021.groupby(['isbn']).aggregate({'uni_cod':'first','a_a':'first','autore':'first','titolo':'first','editore':'first','prezzo':'first','laurea_matricole': 'sum', 'laurea_nome': 'first', 'area':'first'}).reset_index()\n",
    "studenti_ciclo_unico_2021 = isbn_ciclo_unico_2021.groupby(['isbn']).aggregate({'uni_cod':'first','a_a':'first','autore':'first','titolo':'first','editore':'first','prezzo':'first','laurea_matricole': 'sum', 'laurea_nome': 'first', 'area':'first'}).reset_index()"
   ]
  },
  {
   "cell_type": "code",
   "execution_count": 11,
   "metadata": {},
   "outputs": [],
   "source": [
    "# La dimensione del mercato è data dal numero di studenti di ogni isbn, ciascuno contato una sola volta per ogni laurea, \n",
    "# moltiplicato per il prezzo di copertina del libro. \n",
    "studenti_triennali_2021['fatturato'] = studenti_triennali_2021['prezzo']*studenti_triennali_2021['laurea_matricole']\n",
    "studenti_magistrali_2021['fatturato'] = studenti_magistrali_2021['prezzo']*studenti_magistrali_2021['laurea_matricole']\n",
    "studenti_ciclo_unico_2021['fatturato'] = studenti_ciclo_unico_2021['prezzo']*studenti_ciclo_unico_2021['laurea_matricole']\n",
    "studenti_triennali_2021['fatturato'] = studenti_triennali_2021['fatturato'].round(0).astype(int)\n",
    "studenti_magistrali_2021['fatturato'] = studenti_magistrali_2021['fatturato'].round(0).astype(int)\n",
    "studenti_ciclo_unico_2021['fatturato'] = studenti_ciclo_unico_2021['fatturato'].round(0).astype(int)\n",
    "# alcuni corsi non riportano il numero di studenti, in altri casi non è presente il prezzo del libro,\n",
    "# in entrambi i casi eliminiamo la riga\n",
    "studenti_triennali_2021 = studenti_triennali_2021[studenti_triennali_2021['fatturato']>0]\n",
    "studenti_magistrali_2021 = studenti_magistrali_2021[studenti_magistrali_2021['fatturato']>0]\n",
    "studenti_ciclo_unico_2021 = studenti_ciclo_unico_2021[studenti_ciclo_unico_2021['fatturato']>0]"
   ]
  },
  {
   "cell_type": "code",
   "execution_count": 12,
   "metadata": {},
   "outputs": [],
   "source": [
    "\n",
    "isbn_triennali_2021 = studenti_triennali_2021.groupby(['area']).aggregate({'isbn': 'count','fatturato':'sum'}).reset_index()\n",
    "area_triennali_2021 = studenti_triennali_2021.drop_duplicates(subset=['uni_cod','a_a','laurea_nome','area'])\n",
    "\n",
    "mean_triennali_2021 = area_triennali_2021[['uni_cod','a_a','laurea_nome','area','laurea_matricole']].groupby(['area']).aggregate({'laurea_matricole': ['mean','sum']}).reset_index()\n",
    "mean_triennali_2021.columns = mean_triennali_2021.columns.map('|'.join).str.strip('|')\n",
    "ret_triennali_2021 = mean_triennali_2021.merge(isbn_triennali_2021, left_on='area', right_on='area', how='inner')\n",
    "ret_triennali_2021['laurea_matricole|mean'] = ret_triennali_2021['laurea_matricole|mean'].round(0).astype(int)\n"
   ]
  },
  {
   "cell_type": "code",
   "execution_count": 13,
   "metadata": {},
   "outputs": [],
   "source": [
    "\n",
    "isbn_magistrali_2021 = studenti_magistrali_2021.groupby(['area']).aggregate({'isbn': 'count','fatturato':'sum'}).reset_index() #!isbn e fatturato\n",
    "area_magistrali_2021 = studenti_magistrali_2021.drop_duplicates(subset=['uni_cod','a_a','laurea_nome','area'])\n",
    "mean_magistrali_2021 = area_magistrali_2021.groupby(['area']).aggregate({'laurea_matricole': ['mean','sum']}).reset_index()\n",
    "mean_magistrali_2021.columns = mean_magistrali_2021.columns.map('|'.join).str.strip('|')\n",
    "ret_magistrali_2021 = mean_magistrali_2021.merge(isbn_magistrali_2021, left_on='area', right_on='area', how='inner')\n",
    "ret_magistrali_2021['laurea_matricole|mean'] = ret_magistrali_2021['laurea_matricole|mean'].round(0).astype(int)\n"
   ]
  },
  {
   "cell_type": "code",
   "execution_count": 14,
   "metadata": {},
   "outputs": [],
   "source": [
    "\n",
    "isbn_ciclo_unico_2021 = studenti_ciclo_unico_2021.groupby(['area']).aggregate({'isbn': 'count','fatturato':'sum'}).reset_index() #!isbn e fatturato\n",
    "area_ciclo_unico_2021 = studenti_ciclo_unico_2021.drop_duplicates(subset=['uni_cod','a_a','laurea_nome','area'])\n",
    "mean_ciclo_unico_2021 = area_ciclo_unico_2021.groupby(['area']).aggregate({'laurea_matricole': ['mean','sum']}).reset_index()\n",
    "mean_ciclo_unico_2021.columns = mean_ciclo_unico_2021.columns.map('|'.join).str.strip('|')\n",
    "ret_ciclo_unico_2021 = mean_ciclo_unico_2021.merge(isbn_ciclo_unico_2021, left_on='area', right_on='area', how='inner')\n",
    "ret_ciclo_unico_2021['laurea_matricole|mean'] = ret_ciclo_unico_2021['laurea_matricole|mean'].round(0).astype(int)\n"
   ]
  },
  {
   "cell_type": "code",
   "execution_count": 15,
   "metadata": {},
   "outputs": [],
   "source": [
    "ret_triennali_2021.set_index('area', inplace=True)\n",
    "ret_ciclo_unico_2021.set_index('area', inplace=True)\n",
    "ret_magistrali_2021.set_index('area', inplace=True)"
   ]
  },
  {
   "cell_type": "code",
   "execution_count": 16,
   "metadata": {},
   "outputs": [],
   "source": [
    "ft = ret_triennali_2021['fatturato'] *2.04\n",
    "ft2 = ret_magistrali_2021['fatturato'] *2.04\n",
    "ft3 = ret_ciclo_unico_2021['fatturato'] *2.04\n",
    "fatt = pd.concat([ft, ft2, ft3], axis=1)\n",
    "\n",
    "fatt.fillna(0, inplace=True)\n",
    "fatt.columns = ['triennali', 'magistrali', 'ciclo unico']\n",
    "fatt = fatt.astype(int)"
   ]
  }
 ],
 "metadata": {
  "kernelspec": {
   "display_name": "cli_gui",
   "language": "python",
   "name": "python3"
  },
  "language_info": {
   "codemirror_mode": {
    "name": "ipython",
    "version": 3
   },
   "file_extension": ".py",
   "mimetype": "text/x-python",
   "name": "python",
   "nbconvert_exporter": "python",
   "pygments_lexer": "ipython3",
   "version": "3.10.12"
  }
 },
 "nbformat": 4,
 "nbformat_minor": 4
}
